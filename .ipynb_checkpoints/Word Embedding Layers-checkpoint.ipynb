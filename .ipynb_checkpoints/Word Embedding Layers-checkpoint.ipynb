{
 "cells": [
  {
   "cell_type": "markdown",
   "id": "840f69ee",
   "metadata": {},
   "source": [
    "### Word Embedding Layers for Deep Learning with Keras"
   ]
  },
  {
   "cell_type": "code",
   "execution_count": 1,
   "id": "ef6ec5c0",
   "metadata": {},
   "outputs": [],
   "source": [
    "# Import libraries\n",
    "from tensorflow.keras.preprocessing.text import one_hot"
   ]
  },
  {
   "cell_type": "code",
   "execution_count": 3,
   "id": "912cf9db",
   "metadata": {},
   "outputs": [],
   "source": [
    "### sentences\n",
    "sent=['Well done!',\n",
    "        'Good work',\n",
    "        'Great effort',\n",
    "        'nice work',\n",
    "        'Excellent!',\n",
    "        'Weak',\n",
    "        'Poor effort!',\n",
    "        'not good',\n",
    "        'poor work',\n",
    "        'Could have done better.']"
   ]
  },
  {
   "cell_type": "code",
   "execution_count": 4,
   "id": "eaf681b2",
   "metadata": {},
   "outputs": [
    {
     "data": {
      "text/plain": [
       "['Well done!',\n",
       " 'Good work',\n",
       " 'Great effort',\n",
       " 'nice work',\n",
       " 'Excellent!',\n",
       " 'Weak',\n",
       " 'Poor effort!',\n",
       " 'not good',\n",
       " 'poor work',\n",
       " 'Could have done better.']"
      ]
     },
     "execution_count": 4,
     "metadata": {},
     "output_type": "execute_result"
    }
   ],
   "source": [
    "sent"
   ]
  },
  {
   "cell_type": "code",
   "execution_count": 5,
   "id": "83a52836",
   "metadata": {},
   "outputs": [],
   "source": [
    "# Vocabulary size\n",
    "voc_size = 10000"
   ]
  },
  {
   "cell_type": "markdown",
   "id": "b7ed128b",
   "metadata": {},
   "source": [
    "### One Hot Representation"
   ]
  },
  {
   "cell_type": "code",
   "execution_count": 6,
   "id": "caf7fc92",
   "metadata": {},
   "outputs": [
    {
     "name": "stdout",
     "output_type": "stream",
     "text": [
      "[[7712, 7516], [2823, 9815], [5957, 8679], [9264, 9815], [6211], [8649], [4510, 8679], [1635, 2823], [4510, 9815], [8209, 8103, 7516, 1753]]\n"
     ]
    }
   ],
   "source": [
    "onehot_repr = [one_hot(word, voc_size) for word in sent]\n",
    "print(onehot_repr)"
   ]
  },
  {
   "cell_type": "markdown",
   "id": "014f3b3a",
   "metadata": {},
   "source": [
    "### Word Embedding Represntation"
   ]
  },
  {
   "cell_type": "code",
   "execution_count": null,
   "id": "47864128",
   "metadata": {},
   "outputs": [],
   "source": []
  },
  {
   "cell_type": "code",
   "execution_count": null,
   "id": "b74012c1",
   "metadata": {},
   "outputs": [],
   "source": []
  },
  {
   "cell_type": "code",
   "execution_count": null,
   "id": "c526838c",
   "metadata": {},
   "outputs": [],
   "source": []
  },
  {
   "cell_type": "code",
   "execution_count": null,
   "id": "77a4f774",
   "metadata": {},
   "outputs": [],
   "source": []
  },
  {
   "cell_type": "code",
   "execution_count": null,
   "id": "aa76d835",
   "metadata": {},
   "outputs": [],
   "source": []
  },
  {
   "cell_type": "code",
   "execution_count": null,
   "id": "91fc1482",
   "metadata": {},
   "outputs": [],
   "source": []
  },
  {
   "cell_type": "code",
   "execution_count": null,
   "id": "4cc952b6",
   "metadata": {},
   "outputs": [],
   "source": []
  },
  {
   "cell_type": "code",
   "execution_count": null,
   "id": "6aaa9f36",
   "metadata": {},
   "outputs": [],
   "source": []
  }
 ],
 "metadata": {
  "kernelspec": {
   "display_name": "Python 3",
   "language": "python",
   "name": "python3"
  },
  "language_info": {
   "codemirror_mode": {
    "name": "ipython",
    "version": 3
   },
   "file_extension": ".py",
   "mimetype": "text/x-python",
   "name": "python",
   "nbconvert_exporter": "python",
   "pygments_lexer": "ipython3",
   "version": "3.9.5"
  }
 },
 "nbformat": 4,
 "nbformat_minor": 5
}
